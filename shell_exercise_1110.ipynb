{
  "cells": [
    {
      "cell_type": "markdown",
      "metadata": {
        "id": "Lo61rLbP1sXA"
      },
      "source": [
        "#Exercices en ligne de commande"
      ]
    },
    {
      "cell_type": "markdown",
      "metadata": {
        "id": "m8aEXfSB2G4R"
      },
      "source": [
        "##Step1: Check the repository \"Fichier\"\n"
      ]
    },
    {
      "cell_type": "markdown",
      "metadata": {
        "id": "qhW2JAeV2cCG"
      },
      "source": [
        "I sorted all files again only by their year instead of month (I find it will be easier to handle with)"
      ]
    },
    {
      "cell_type": "markdown",
      "metadata": {
        "id": "9Z-P0pQy2axj"
      },
      "source": [
        "##Step 2: Sort all .ann files by year"
      ]
    },
    {
      "cell_type": "markdown",
      "metadata": {
        "id": "90U-8Jxz5bFf"
      },
      "source": [
        "  1) calculate each year's annotation"
      ]
    },
    {
      "cell_type": "code",
      "execution_count": null,
      "metadata": {
        "id": "IEDpTsRT3G89",
        "vscode": {
          "languageId": "shellscript"
        }
      },
      "outputs": [],
      "source": [
        "wc -l 2016*.ann\n",
        "> 9442 total\n",
        "\n",
        "wc -l 2017*.ann\n",
        "> 7179 total\n",
        "\n",
        "wc -l 2018*.ann\n",
        "> 7561 total"
      ]
    },
    {
      "cell_type": "markdown",
      "metadata": {
        "id": "blnWLbbT5lrl"
      },
      "source": [
        "2) limit the result range to \"Location\" and count under each folder"
      ]
    },
    {
      "cell_type": "code",
      "execution_count": null,
      "metadata": {
        "id": "Ex1xnezH50FZ",
        "vscode": {
          "languageId": "shellscript"
        }
      },
      "outputs": [],
      "source": [
        "cat 2016*.ann | grep Location | wc -l\n",
        "    3144\n",
        "\n",
        "cat 2017*.ann | grep Location | wc -l\n",
        "    2466\n",
        "\n",
        "cat 2018*.ann | grep Location | wc -l\n",
        "    3110\n",
        "\n",
        "> 8720"
      ]
    },
    {
      "cell_type": "markdown",
      "metadata": {
        "id": "kJI6lFB17A68"
      },
      "source": [
        "3. save the calculated result in a single file : \"location.txt\""
      ]
    },
    {
      "cell_type": "code",
      "execution_count": null,
      "metadata": {
        "id": "uB8SMFsR8Jj2",
        "vscode": {
          "languageId": "shellscript"
        }
      },
      "outputs": [],
      "source": [
        "wc -l 2016*.ann | tail -1 > location.txt\n",
        "wc -l 2017*.ann | tail -1 >> location.txt\n",
        "wc -l 2018*.ann | tail -1 >> location.txt\n",
        "cat location.txt"
      ]
    },
    {
      "cell_type": "markdown",
      "metadata": {
        "id": "cElzSltk97V8"
      },
      "source": [
        "4) Establish a ranking of the top 10 most cited places and show the occurencies."
      ]
    },
    {
      "cell_type": "code",
      "execution_count": null,
      "metadata": {
        "id": "pHDgMGlR-mWw",
        "vscode": {
          "languageId": "shellscript"
        }
      },
      "outputs": [],
      "source": [
        "cat *.ann | grep Location | cut -f 3 | sort -n | uniq -c | sort -nr | head"
      ]
    },
    {
      "cell_type": "markdown",
      "metadata": {
        "id": "eXju8kOU_97F"
      },
      "source": [
        "then I got the top 10 most cited places of each year\n",
        "\n",
        "*2016*\n",
        "\n",
        "* 247 France\n",
        "* 130 Burundi\n",
        "* 105 Rio\n",
        "* 82 Paris\n",
        "* 73 États-Unis\n",
        "* 47 Syrie\n",
        "* 41 Russie\n",
        "* 39 Allemagne\n",
        "* 37 Canada\n",
        "* 35 Montpellier\n",
        "\n",
        "*2017*\n",
        "\n",
        "* 282 France\n",
        "* 79 États-Unis\n",
        "* 50 Syrie\n",
        "* 50 Paris\n",
        "* 37 Turquie\n",
        "* 36 Russie\n",
        "* 35 Italie\n",
        "* 28 Irak\n",
        "* 26 Europe\n",
        "* 24 Royaume-Uni\n",
        "\n",
        "*2018*\n",
        "\n",
        "* 174 France\n",
        "* 165 Paris\n",
        "*  76 Champs-Élysées\n",
        "*  37 États-Unis\n",
        "*  36 Russie\n",
        "* 28 A9\n",
        "*  24 A7\n",
        "*  22 A8\n",
        "*  21 Strasbourg\n",
        "* 21 A62"
      ]
    },
    {
      "cell_type": "markdown",
      "metadata": {
        "id": "lY9Br987BfW1"
      },
      "source": [
        "5) find the most frequent annotations for your month of birth, all years combined.\n",
        "\n",
        "> I was born in October :\n",
        "\n",
        "\n"
      ]
    },
    {
      "cell_type": "code",
      "execution_count": null,
      "metadata": {
        "id": "iGl03asMCN3a",
        "vscode": {
          "languageId": "shellscript"
        }
      },
      "outputs": [],
      "source": [
        "wc -l *_10_*.ann | sort -rn | head -n2\n",
        "\n",
        "#2016\n",
        " 956 total\n",
        "      68 2016_10_10-001.ann\n",
        "#2017\n",
        "244 total\n",
        "      30 2017_10_12-001.ann\n",
        "#2018\n",
        " 270 total\n",
        "      31 2018_10_29-001.ann"
      ]
    },
    {
      "cell_type": "markdown",
      "metadata": {
        "id": "VYaCUfWIDD0N"
      },
      "source": [
        "The annotation on October 10, 2016 is the most frequent with 68 occurrences."
      ]
    },
    {
      "cell_type": "markdown",
      "metadata": {
        "id": "RF8skoJ6DaNf"
      },
      "source": [
        "##Argument d'un script"
      ]
    },
    {
      "cell_type": "markdown",
      "metadata": {},
      "source": [
        "*Excercice 1*\n",
        "- Write a script that counts the entities for a given year and entity type as arguments to the program.\n",
        "- Write a second script that runs the previous script *three times*, once for each year, taking the entity type as an argument.\n",
        "\n"
      ]
    },
    {
      "cell_type": "code",
      "execution_count": null,
      "metadata": {
        "vscode": {
          "languageId": "shellscript"
        }
      },
      "outputs": [],
      "source": [
        "\n",
        "#!/user/bin/bash\n",
        "\n",
        "#declare the variables\n",
        "WORD=$1   \n",
        "COUNT=$6\n",
        "MAX=8\n",
        "\n",
        "SCRIPT_PATH=\"./first_script.sh\"\n",
        "\n",
        "#use the loop while with 6, 7, 8 and then run the file first_script.sh\n",
        "\n",
        "while [[ $COUNT -le $MAX ]];\n",
        "do\n",
        "        bash $SCRIPT_PATH $COUNT $WORD\n",
        "        COUNT=$((COUNT+1))\n",
        "done"
      ]
    },
    {
      "cell_type": "code",
      "execution_count": null,
      "metadata": {
        "vscode": {
          "languageId": "shellscript"
        }
      },
      "outputs": [],
      "source": [
        "#!/user/bin/bash\n",
        "\n",
        "YEAR=$1\n",
        "KEYWORD=$2\n",
        "\n",
        "#file path\n",
        "FILE_PATH=\"./Fichiers/201$YEAR/*.ann\"\n",
        "\n",
        "#define the variable\n",
        "EXE=$(cat $FILE_PATH | egrep -w $KEYWORD | wc -l)\n",
        "\n",
        "echo \" IN year 201$YEAR keyword '$KEYWORD' shows : $EXE times\""
      ]
    },
    {
      "cell_type": "markdown",
      "metadata": {},
      "source": [
        "*Exercice 2*\n",
        "- create a script to rank the most cited places.\n",
        "- display the count of year, month and number of places. \n",
        "- use * for year and month."
      ]
    },
    {
      "cell_type": "code",
      "execution_count": null,
      "metadata": {
        "vscode": {
          "languageId": "shellscript"
        }
      },
      "outputs": [],
      "source": [
        "#!/user/bin/bash\n",
        "\n",
        "YEAR=$1\n",
        "LINES=$2\n",
        "FILE_PATH=\"./Fichiers/$YEAR/*.ann\"\n",
        "\n",
        "\n",
        "SEARCH=$(grep Location $FILE_PATH | cut -f 3 | sort -n | uniq -c | sort -nr | head -n$LINES)\n",
        "\n",
        "#show the search result\n",
        "\n",
        "echo $SEARCH"
      ]
    }
  ],
  "metadata": {
    "colab": {
      "provenance": []
    },
    "kernelspec": {
      "display_name": "Python 3",
      "name": "python3"
    },
    "language_info": {
      "name": "python"
    }
  },
  "nbformat": 4,
  "nbformat_minor": 0
}
